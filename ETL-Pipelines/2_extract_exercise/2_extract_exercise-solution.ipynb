{
 "cells": [
  {
   "cell_type": "markdown",
   "metadata": {},
   "source": [
    "# Extract from JSON and XML\n",
    "\n",
    "You'll now get practice extracting data from JSON and XML. You'll extract the same population data from the previous exercise, except the data will be in a different format.\n",
    "\n",
    "Both JSON and XML are common formats for storing data. XML was established before JSON, and JSON has become more popular over time. They both tend to be used for sending data via web APIs, which you'll learn about later in the lesson.\n",
    "\n",
    "Sometimes, you can obtain the same data in either JSON or XML format. The World Bank indicator data is available in either form. In this exercise, you'll use the same data except one file is formatted as JSON and the other as XML.\n",
    "\n",
    "There is a solution file for these exercises. Go to File->Open and click on 2_extract_exercise_solution.ipynb."
   ]
  },
  {
   "cell_type": "markdown",
   "metadata": {},
   "source": [
    "# Extract JSON and JSON Exercise\n",
    "\n",
    "First, you'll practice extracting data from a JSON file. Run the cell below to print out the first line of the JSON file."
   ]
  },
  {
   "cell_type": "code",
   "execution_count": null,
   "metadata": {},
   "outputs": [],
   "source": [
    "### \n",
    "#   Run the following cell.\n",
    "#   This cell loads a function that prints the first n lines of\n",
    "#   a file.\n",
    "#\n",
    "#   Then this function is called on the JSON file to print out\n",
    "#   the first line of the population_data.json file\n",
    "###\n",
    "\n",
    "def print_lines(n, file_name):\n",
    "    f = open(file_name)\n",
    "    for i in range(n):\n",
    "        print(f.readline())\n",
    "    f.close()\n",
    "    \n",
    "print_lines(1, 'population_data.json')"
   ]
  },
  {
   "cell_type": "markdown",
   "metadata": {},
   "source": [
    "The first \"line\" in the file is actually the entire file. JSON is a compact way of representing data in a dictionary-like format. Luckily, pandas has a method to [read in a json file](https://pandas.pydata.org/pandas-docs/stable/generated/pandas.read_json.html). \n",
    "\n",
    "If you open the link with the documentation, you'll see there is an *orient* option that can handle JSON formatted in different ways:\n",
    "```\n",
    "'split' : dict like {index -> [index], columns -> [columns], data -> [values]}\n",
    "'records' : list like [{column -> value}, ... , {column -> value}]\n",
    "'index' : dict like {index -> {column -> value}}\n",
    "'columns' : dict like {column -> {index -> value}}\n",
    "'values' : just the values array\n",
    "```\n",
    "\n",
    "In this case, the JSON is formatted with a 'records' orientation, so you'll need to use that value in the read_json() method. You can tell that the format is 'records' by comparing the pattern in the documentation with the pattern in the JSON file.\n",
    "\n",
    "Next, read in the population_data.json file using pandas."
   ]
  },
  {
   "cell_type": "code",
   "execution_count": 4,
   "metadata": {},
   "outputs": [],
   "source": [
    "# TODO: Read in the population_data.json file using pandas's \n",
    "# read_json method. Don't forget to specific the orient option\n",
    "# store the rsults in df_json/\n",
    "\n",
    "import pandas as pd\n",
    "df_json = pd.read_json('population_data.json', orient='records')"
   ]
  },
  {
   "cell_type": "code",
   "execution_count": null,
   "metadata": {},
   "outputs": [],
   "source": [
    "# TODO: Use the head method to see the first few rows of the resulting\n",
    "# dataframe\n",
    "df_json.head()"
   ]
  },
  {
   "cell_type": "markdown",
   "metadata": {},
   "source": [
    "Notice that this population data is the same as the data from the previous exercise. The column order might have changed, but the data is otherwise the same."
   ]
  },
  {
   "cell_type": "markdown",
   "metadata": {},
   "source": [
    "# Other Ways to Read in JSON\n",
    "\n",
    "Besides using pandas to read JSON files, you can use the json library. Run the code cell below to see an example of reading in JSON with the json library. Python treats JSON data like a dictionary."
   ]
  },
  {
   "cell_type": "code",
   "execution_count": null,
   "metadata": {},
   "outputs": [],
   "source": [
    "import json\n",
    "\n",
    "# read in the JSON file\n",
    "with open('population_data.json') as f:\n",
    "    json_data = json.load(f)\n",
    "\n",
    "# print the first record in the JSON file\n",
    "print(json_data[0])\n",
    "print('\\n')\n",
    "\n",
    "# show that JSON data is essentially a dictionary\n",
    "print(json_data[0]['Country Name'])\n",
    "print(json_data[0]['Country Code'])"
   ]
  },
  {
   "cell_type": "markdown",
   "metadata": {},
   "source": [
    "# Extract XML\n",
    "\n",
    "Next, you'll work with the same data except now the data is in xml format. Run the next code cell to see what the first fifteen lines of the data file look like."
   ]
  },
  {
   "cell_type": "code",
   "execution_count": null,
   "metadata": {},
   "outputs": [],
   "source": [
    "print_lines(15, 'population_data.xml')"
   ]
  },
  {
   "cell_type": "markdown",
   "metadata": {},
   "source": [
    "XML looks very similar to HTML. XML is formatted with tags having values inside the tags. XML is not as easy to navigate as JSON. Pandas cannot read in XML directly. One reason is that tag names are user defined. Every XML file might have different formatting. You can imagine why XML has fallen out of favor relative to JSON."
   ]
  },
  {
   "cell_type": "markdown",
   "metadata": {},
   "source": [
    "### How to read and navigate XML\n",
    "\n",
    "There is a Python library called BeautifulSoup, which makes reading in and parsing XML data easier. Here is the link to the documentation: [Beautiful Soup Documentation](https://www.crummy.com/software/BeautifulSoup/)\n",
    "\n",
    "The find() method will find the first place where an xml element occurs. For example using find('record') will return the first record in the xml file:\n",
    "\n",
    "```xml\n",
    "<record>\n",
    "  <field name=\"Country or Area\" key=\"ABW\">Aruba</field>\n",
    "  <field name=\"Item\" key=\"SP.POP.TOTL\">Population, total</field>\n",
    "  <field name=\"Year\">1960</field>\n",
    "  <field name=\"Value\">54211</field>\n",
    "</record>\n",
    "```\n",
    "\n",
    "The find_all() method returns all of the matching tags. So find_all('record') would return all of the elements with the `<record>` tag.\n",
    "\n",
    "Run the code cells below to get a basic idea of how to navigate XML with BeautifulSoup. To navigate through the xml file, you search for a specific tag using the find() method or find_all() method. \n",
    "\n",
    "Below these code cells, there is an exercise for wrangling the XML data."
   ]
  },
  {
   "cell_type": "code",
   "execution_count": 1,
   "metadata": {},
   "outputs": [],
   "source": [
    "# import the BeautifulSoup library\n",
    "from bs4 import BeautifulSoup\n",
    "\n",
    "# open the population_data.xml file and load into Beautiful Soup\n",
    "with open(\"population_data.xml\") as fp:\n",
    "    soup = BeautifulSoup(fp, \"lxml\") # lxml is the Parser type"
   ]
  },
  {
   "cell_type": "code",
   "execution_count": 2,
   "metadata": {},
   "outputs": [
    {
     "name": "stdout",
     "output_type": "stream",
     "text": [
      "Country or Area :  Aruba\n",
      "Item :  Population, total\n",
      "Year :  1960\n",
      "Value :  54211\n",
      "\n",
      "Country or Area :  Aruba\n",
      "Item :  Population, total\n",
      "Year :  1961\n",
      "Value :  55438\n",
      "\n",
      "Country or Area :  Aruba\n",
      "Item :  Population, total\n",
      "Year :  1962\n",
      "Value :  56225\n",
      "\n",
      "Country or Area :  Aruba\n",
      "Item :  Population, total\n",
      "Year :  1963\n",
      "Value :  56695\n",
      "\n",
      "Country or Area :  Aruba\n",
      "Item :  Population, total\n",
      "Year :  1964\n",
      "Value :  57032\n",
      "\n"
     ]
    }
   ],
   "source": [
    "# output the first 5 records in the xml file\n",
    "# this is an example of how to navigate with BeautifulSoup\n",
    "\n",
    "i = 0\n",
    "# use the find_all method to get all record tags in the document\n",
    "for record in soup.find_all('record'):\n",
    "    # use the find_all method to get all fields in each record\n",
    "    i += 1\n",
    "    for record in record.find_all('field'):\n",
    "        print(record['name'], ': ' , record.text)\n",
    "    print()\n",
    "    if i == 5:\n",
    "        break"
   ]
  },
  {
   "cell_type": "markdown",
   "metadata": {},
   "source": [
    "# XML Exercise (Challenge)\n",
    "\n",
    "Create a data frame from the xml file. This exercise is somewhat tricky. One solution would be to convert the xml data into dictionaries and then use the dictionaries to create a data frame. \n",
    "\n",
    "The dataframe should have the following layout:\n",
    "\n",
    "| Country or Area | Year | Item | Value |\n",
    "|----|----|----|----|\n",
    "| Aruba | 1960 | Population, total | 54211 |\n",
    "| Aruba | 1961 | Population, total | 55348 |\n",
    "etc...\n",
    "\n",
    "Technically, extracting XML, transforming the results, and putting it into a data frame is a full ETL pipeline. This exercise is jumping ahead in terms of what's to come later in the lesson. But it's a good chance to familiarize yourself with XML. "
   ]
  },
  {
   "cell_type": "code",
   "execution_count": 8,
   "metadata": {},
   "outputs": [
    {
     "name": "stdout",
     "output_type": "stream",
     "text": [
      "Year     Country or Area        1960        1961        1962        1963  \\\n",
      "0            Afghanistan     8996351     9166764     9345868     9533954   \n",
      "1                Albania     1608800     1659800     1711319     1762621   \n",
      "2                Algeria    11124888    11404859    11690153    11985136   \n",
      "3         American Samoa       20013       20486       21117       21882   \n",
      "4                Andorra       13411       14375       15370       16412   \n",
      "..                   ...         ...         ...         ...         ...   \n",
      "259   West Bank and Gaza                                                   \n",
      "260                World  3032160395  3073368589  3126509809  3191786428   \n",
      "261          Yemen, Rep.     5172135     5260501     5351799     5446063   \n",
      "262               Zambia     3044846     3140264     3240587     3345145   \n",
      "263             Zimbabwe     3747369     3870756     3999419     4132756   \n",
      "\n",
      "Year        1964        1965        1966        1967        1968  ...  \\\n",
      "0        9731361     9938414    10152331    10372630    10604346  ...   \n",
      "1        1814135     1864791     1914573     1965598     2022272  ...   \n",
      "2       12295970    12626952    12980267    13354197    13744387  ...   \n",
      "3          22698       23520       24321       25116       25885  ...   \n",
      "4          17469       18549       19647       20758       21890  ...   \n",
      "..           ...         ...         ...         ...         ...  ...   \n",
      "259                                                               ...   \n",
      "260   3257459749  3324545319  3394783653  3464689185  3535355316  ...   \n",
      "261      5543339     5643643     5748588     5858638     5971407  ...   \n",
      "262      3452942     3563407     3676189     3791887     3912085  ...   \n",
      "263      4269863     4410212     4553433     4700041     4851431  ...   \n",
      "\n",
      "Year        2008        2009        2010        2011        2012        2013  \\\n",
      "0       27294031    28004331    28803167    29708599    30696958    31731688   \n",
      "1        2947314     2927519     2913021     2905195     2900401     2895092   \n",
      "2       34860715    35465760    36117637    36819558    37565847    38338562   \n",
      "3          57030       56227       55637       55320       55230       55307   \n",
      "4          83861       84462       84449       83751       82431       80788   \n",
      "..           ...         ...         ...         ...         ...         ...   \n",
      "259      3596688     3702218     3811102     3927051     4046901     4169506   \n",
      "260   6766296679  6849569339  6932869743  7014983968  7099557649  7185137526   \n",
      "261     22356391    22974929    23606779    24252206    24909969    25576322   \n",
      "262     13082517    13456417    13850033    14264756    14699937    15153210   \n",
      "263     13558469    13810599    14086317    14386649    14710826    15054506   \n",
      "\n",
      "Year        2014        2015        2016        2017  \n",
      "0       32758020    33736494    34656032    35530081  \n",
      "1        2889104     2880703     2876101     2873457  \n",
      "2       39113313    39871528    40606052    41318142  \n",
      "3          55437       55537       55599       55641  \n",
      "4          79223       78014       77281       76965  \n",
      "..           ...         ...         ...         ...  \n",
      "259      4294682     4422143     4551566     4684777  \n",
      "260   7271322821  7357559450  7444157356  7530360149  \n",
      "261     26246327    26916207    27584213    28250420  \n",
      "262     15620974    16100587    16591390    17094130  \n",
      "263     15411675    15777451    16150362    16529904  \n",
      "\n",
      "[264 rows x 59 columns]\n"
     ]
    }
   ],
   "source": [
    "# TODO: Create a pandas data frame from the XML data.\n",
    "# HINT: You can use dictionaries to create pandas data frames.\n",
    "# HINT: https://pandas.pydata.org/pandas-docs/stable/generated/pandas.DataFrame.from_dict.html#pandas.DataFrame.from_dict\n",
    "# HINT: You can make a dictionary for each column or for each row\n",
    "# HINT: Modify the code from the previous code cell\n",
    "\n",
    "\n",
    "# output the first 5 records in the xml file\n",
    "# this is an example of how to navigate with BeautifulSoup\n",
    "\n",
    "# use the find_all method to get all record tags in the document\n",
    "data_dictionary = {'Country or Area':[], 'Year':[], 'Item':[], 'Value':[]}\n",
    "\n",
    "for record in soup.find_all('record'):\n",
    "    for record in record.find_all('field'):\n",
    "        data_dictionary[record['name']].append(record.text)\n",
    "\n",
    "df = pd.DataFrame.from_dict(data_dictionary)\n",
    "df = df.pivot(index='Country or Area', columns='Year', values='Value')\n",
    "df.reset_index(level=0, inplace=True)\n",
    "\n",
    "print(df)"
   ]
  },
  {
   "cell_type": "markdown",
   "metadata": {},
   "source": [
    "# Conclusion\n",
    "\n",
    "Like CSV, JSON and XML are ways to format data. If everything is formatted correctly, JSON is especially easy to work with. XML is an older standard and a bit trickier to handle.\n",
    "\n",
    "As a reminder, there is a solution file for these exercises. You can go to File->Open and then click on 2_extract_exercise."
   ]
  },
  {
   "cell_type": "code",
   "execution_count": null,
   "metadata": {},
   "outputs": [],
   "source": []
  }
 ],
 "metadata": {
  "kernelspec": {
   "display_name": "Python 3 (ipykernel)",
   "language": "python",
   "name": "python3"
  },
  "language_info": {
   "codemirror_mode": {
    "name": "ipython",
    "version": 3
   },
   "file_extension": ".py",
   "mimetype": "text/x-python",
   "name": "python",
   "nbconvert_exporter": "python",
   "pygments_lexer": "ipython3",
   "version": "3.11.8"
  }
 },
 "nbformat": 4,
 "nbformat_minor": 4
}
